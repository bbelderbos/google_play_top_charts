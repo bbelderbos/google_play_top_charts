{
 "cells": [
  {
   "cell_type": "markdown",
   "metadata": {},
   "source": [
    "In this notebook I look at the most popular categories of Google Play apps in Spain vs US.\n",
    "\n",
    "I use the [Google Play Top Charts API](https://42matters.com/api/top-google-charts) to retrieve some data from Play."
   ]
  },
  {
   "cell_type": "code",
   "execution_count": 1,
   "metadata": {
    "collapsed": true
   },
   "outputs": [],
   "source": [
    "from collections import Counter\n",
    "from configparser import ConfigParser\n",
    "import csv\n",
    "import matplotlib\n",
    "import matplotlib.pyplot as plt\n",
    "import numpy as np\n",
    "import pandas as pd\n",
    "from pprint import pprint as pp\n",
    "import requests\n",
    "%matplotlib inline"
   ]
  },
  {
   "cell_type": "markdown",
   "metadata": {},
   "source": [
    "If you want to run this analysis yourself (maybe you want to check other countries), get a 42 matters API key and define a config file called notebook.conf in the same directory as this notebook, with the following values\n",
    "\n",
    "    [vars]\n",
    "    apikey = <your_api_key>\n",
    "    country = <your_primary_country> -> I use ES (Spain)\n",
    "    compare_country = <your_compareTo_country> -> I use US (United States)\n",
    "    limit = <how_many_top_results> -> I use 20"
   ]
  },
  {
   "cell_type": "code",
   "execution_count": 5,
   "metadata": {
    "collapsed": false
   },
   "outputs": [],
   "source": [
    "list_names = ( \"topselling_free\", \"topselling_paid\", \"movers_shakers\", \n",
    "              \"topgrossing\", \"topselling_new_free\", \"topselling_new_paid\" )"
   ]
  },
  {
   "cell_type": "code",
   "execution_count": 6,
   "metadata": {
    "collapsed": false
   },
   "outputs": [
    {
     "data": {
      "text/plain": [
       "['notebook.conf']"
      ]
     },
     "execution_count": 6,
     "metadata": {},
     "output_type": "execute_result"
    }
   ],
   "source": [
    "config = ConfigParser()\n",
    "config.read(\"notebook.conf\")"
   ]
  },
  {
   "cell_type": "code",
   "execution_count": 7,
   "metadata": {
    "collapsed": false
   },
   "outputs": [],
   "source": [
    "access_token = config[\"vars\"][\"apikey\"]\n",
    "country = config[\"vars\"][\"country\"]\n",
    "compare_country = config[\"vars\"][\"compare_country\"]\n",
    "limit = config[\"vars\"][\"limit\"]"
   ]
  },
  {
   "cell_type": "code",
   "execution_count": 8,
   "metadata": {
    "collapsed": true
   },
   "outputs": [],
   "source": [
    "def get_request_url(*args):\n",
    "    return \"https://data.42matters.com/api/v2.0/android/apps/top_google_charts.json?\" +\\\n",
    "        \"list_name={}&cat_key=OVERALL&country={}&limit={}&access_token={}\".format(*args)"
   ]
  },
  {
   "cell_type": "code",
   "execution_count": 9,
   "metadata": {
    "collapsed": true
   },
   "outputs": [],
   "source": [
    "def get_top_categories_from_response(resp):\n",
    "    cats = [app[\"category\"] for app in resp[\"app_list\"]]\n",
    "    cats_count = Counter(cats)\n",
    "    return dict(cats_count.most_common(5))"
   ]
  },
  {
   "cell_type": "code",
   "execution_count": 10,
   "metadata": {
    "collapsed": true
   },
   "outputs": [],
   "source": [
    "# cache data for drill down if necessary (save API calls!)\n",
    "cache = {\n",
    "    country: {},\n",
    "    compare_country: {},\n",
    "}"
   ]
  },
  {
   "cell_type": "code",
   "execution_count": 11,
   "metadata": {
    "collapsed": true
   },
   "outputs": [],
   "source": [
    "trends = {\n",
    "    country: {},\n",
    "    compare_country: {},\n",
    "}"
   ]
  },
  {
   "cell_type": "code",
   "execution_count": 14,
   "metadata": {
    "collapsed": false
   },
   "outputs": [],
   "source": [
    "# reduce list_names if you want to save API calls, free 42 matters account gives you 1000 hits\n",
    "# each call = 3 hits, so 2 countries x 6 lists x 3 hits = 36 hits\n",
    "def get_stats(country):\n",
    "    for lname in list_names:\n",
    "        url = get_request_url(lname, country, limit, access_token)\n",
    "        resp = requests.get(url).json()\n",
    "        cache[country][lname] = resp\n",
    "        trends[country][lname] = get_top_categories_from_response(resp)"
   ]
  },
  {
   "cell_type": "code",
   "execution_count": 15,
   "metadata": {
    "collapsed": false
   },
   "outputs": [],
   "source": [
    "for co in (country, compare_country):\n",
    "    get_stats(co)"
   ]
  },
  {
   "cell_type": "code",
   "execution_count": 16,
   "metadata": {
    "collapsed": false
   },
   "outputs": [
    {
     "name": "stdout",
     "output_type": "stream",
     "text": [
      "{'Action': 6, 'Casual': 2, 'Entertainment': 2, 'Puzzle': 2, 'Sports': 2}\n"
     ]
    }
   ],
   "source": [
    "# verify response\n",
    "pp(trends[\"ES\"][\"topselling_new_free\"])"
   ]
  },
  {
   "cell_type": "code",
   "execution_count": 18,
   "metadata": {
    "collapsed": false
   },
   "outputs": [],
   "source": [
    "# cache is like this:\n",
    "# pp(cache[\"US\"][\"topgrossing\"])"
   ]
  },
  {
   "cell_type": "code",
   "execution_count": 19,
   "metadata": {
    "collapsed": false
   },
   "outputs": [],
   "source": [
    "# dump cache to a file\n",
    "for co in (country, compare_country):\n",
    "    writer = csv.writer(open('cache_%s.csv' % co, 'w'))\n",
    "    for key, value in cache[co].items():\n",
    "        for app in value[\"app_list\"]:\n",
    "            writer.writerow(app.values())"
   ]
  },
  {
   "cell_type": "code",
   "execution_count": 20,
   "metadata": {
    "collapsed": false
   },
   "outputs": [
    {
     "data": {
      "text/html": [
       "<div>\n",
       "<table border=\"1\" class=\"dataframe\">\n",
       "  <thead>\n",
       "    <tr style=\"text-align: right;\">\n",
       "      <th></th>\n",
       "      <th>movers_shakers</th>\n",
       "      <th>topgrossing</th>\n",
       "      <th>topselling_free</th>\n",
       "      <th>topselling_new_free</th>\n",
       "      <th>topselling_new_paid</th>\n",
       "      <th>topselling_paid</th>\n",
       "    </tr>\n",
       "  </thead>\n",
       "  <tbody>\n",
       "    <tr>\n",
       "      <th>Action</th>\n",
       "      <td>2.0</td>\n",
       "      <td>NaN</td>\n",
       "      <td>1.0</td>\n",
       "      <td>6.0</td>\n",
       "      <td>2.0</td>\n",
       "      <td>NaN</td>\n",
       "    </tr>\n",
       "    <tr>\n",
       "      <th>Arcade</th>\n",
       "      <td>6.0</td>\n",
       "      <td>NaN</td>\n",
       "      <td>NaN</td>\n",
       "      <td>NaN</td>\n",
       "      <td>NaN</td>\n",
       "      <td>3.0</td>\n",
       "    </tr>\n",
       "    <tr>\n",
       "      <th>Board</th>\n",
       "      <td>NaN</td>\n",
       "      <td>NaN</td>\n",
       "      <td>NaN</td>\n",
       "      <td>NaN</td>\n",
       "      <td>2.0</td>\n",
       "      <td>NaN</td>\n",
       "    </tr>\n",
       "  </tbody>\n",
       "</table>\n",
       "</div>"
      ],
      "text/plain": [
       "        movers_shakers  topgrossing  topselling_free  topselling_new_free  \\\n",
       "Action             2.0          NaN              1.0                  6.0   \n",
       "Arcade             6.0          NaN              NaN                  NaN   \n",
       "Board              NaN          NaN              NaN                  NaN   \n",
       "\n",
       "        topselling_new_paid  topselling_paid  \n",
       "Action                  2.0              NaN  \n",
       "Arcade                  NaN              3.0  \n",
       "Board                   2.0              NaN  "
      ]
     },
     "execution_count": 20,
     "metadata": {},
     "output_type": "execute_result"
    }
   ],
   "source": [
    "df1 = pd.DataFrame(trends[country]); df1.head(3)"
   ]
  },
  {
   "cell_type": "code",
   "execution_count": 21,
   "metadata": {
    "collapsed": false
   },
   "outputs": [
    {
     "data": {
      "text/html": [
       "<div>\n",
       "<table border=\"1\" class=\"dataframe\">\n",
       "  <thead>\n",
       "    <tr style=\"text-align: right;\">\n",
       "      <th></th>\n",
       "      <th>movers_shakers</th>\n",
       "      <th>topgrossing</th>\n",
       "      <th>topselling_free</th>\n",
       "      <th>topselling_new_free</th>\n",
       "      <th>topselling_new_paid</th>\n",
       "      <th>topselling_paid</th>\n",
       "    </tr>\n",
       "  </thead>\n",
       "  <tbody>\n",
       "    <tr>\n",
       "      <th>Action</th>\n",
       "      <td>3.0</td>\n",
       "      <td>NaN</td>\n",
       "      <td>3.0</td>\n",
       "      <td>7.0</td>\n",
       "      <td>2.0</td>\n",
       "      <td>2.0</td>\n",
       "    </tr>\n",
       "    <tr>\n",
       "      <th>Adventure</th>\n",
       "      <td>NaN</td>\n",
       "      <td>NaN</td>\n",
       "      <td>NaN</td>\n",
       "      <td>NaN</td>\n",
       "      <td>3.0</td>\n",
       "      <td>3.0</td>\n",
       "    </tr>\n",
       "    <tr>\n",
       "      <th>Arcade</th>\n",
       "      <td>5.0</td>\n",
       "      <td>NaN</td>\n",
       "      <td>NaN</td>\n",
       "      <td>NaN</td>\n",
       "      <td>NaN</td>\n",
       "      <td>3.0</td>\n",
       "    </tr>\n",
       "  </tbody>\n",
       "</table>\n",
       "</div>"
      ],
      "text/plain": [
       "           movers_shakers  topgrossing  topselling_free  topselling_new_free  \\\n",
       "Action                3.0          NaN              3.0                  7.0   \n",
       "Adventure             NaN          NaN              NaN                  NaN   \n",
       "Arcade                5.0          NaN              NaN                  NaN   \n",
       "\n",
       "           topselling_new_paid  topselling_paid  \n",
       "Action                     2.0              2.0  \n",
       "Adventure                  3.0              3.0  \n",
       "Arcade                     NaN              3.0  "
      ]
     },
     "execution_count": 21,
     "metadata": {},
     "output_type": "execute_result"
    }
   ],
   "source": [
    "df2 = pd.DataFrame(trends[compare_country]); df2.head(3)"
   ]
  },
  {
   "cell_type": "markdown",
   "metadata": {},
   "source": [
    "## Spanish Android app market:"
   ]
  },
  {
   "cell_type": "code",
   "execution_count": 22,
   "metadata": {
    "collapsed": false
   },
   "outputs": [
    {
     "data": {
      "image/png": "[encoded data removed]",
      "text/plain": [
       "<matplotlib.figure.Figure at 0x1158360f0>"
      ]
     },
     "metadata": {},
     "output_type": "display_data"
    }
   ],
   "source": [
    "plt1 = df1.plot(kind=\"bar\")\n",
    "fig = matplotlib.pyplot.gcf()\n",
    "fig.set_size_inches(20, 10)"
   ]
  },
  {
   "cell_type": "markdown",
   "metadata": {},
   "source": [
    "## US Android app market:"
   ]
  },
  {
   "cell_type": "code",
   "execution_count": 23,
   "metadata": {
    "collapsed": false
   },
   "outputs": [
    {
     "data": {
      "image/png": "[encoded data removed]",
      "text/plain": [
       "<matplotlib.figure.Figure at 0x115946e10>"
      ]
     },
     "metadata": {},
     "output_type": "display_data"
    }
   ],
   "source": [
    "plt2 = df2.plot(kind=\"bar\")\n",
    "fig = matplotlib.pyplot.gcf()\n",
    "fig.set_size_inches(20, 10)"
   ]
  },
  {
   "cell_type": "markdown",
   "metadata": {},
   "source": [
    "Note that movers_shakers is 42matters' API term for trending.\n",
    "\n",
    "Interesting: \n",
    "\n",
    "* Strategy is a highly topgrossing on both markets\n",
    "* Casino is topgrossing in US, but not in Spain\n",
    "* There are apps that are doing good as free vs paid. Social for example is topselling Free, Puzzle is topselling Paid\n",
    "* In both markets tools are topselling free as well as trending"
   ]
  },
  {
   "cell_type": "markdown",
   "metadata": {},
   "source": [
    "So what are strategy apps, what social apps are popular, what is casual? Etc ... Let's do some inspection in the cached data ..."
   ]
  },
  {
   "cell_type": "markdown",
   "metadata": {},
   "source": [
    "### Top categories in Spain but not in US"
   ]
  },
  {
   "cell_type": "code",
   "execution_count": 24,
   "metadata": {
    "collapsed": false
   },
   "outputs": [
    {
     "data": {
      "text/plain": [
       "Index(['Board', 'Education', 'Health & Fitness', 'Lifestyle', 'Sports',\n",
       "       'Travel & Local', 'Trivia'],\n",
       "      dtype='object')"
      ]
     },
     "execution_count": 24,
     "metadata": {},
     "output_type": "execute_result"
    }
   ],
   "source": [
    "idx1 = pd.Index(df1.index)\n",
    "idx2 = pd.Index(df2.index)\n",
    "es_unique_cats = idx1.difference(idx2); es_unique_cats"
   ]
  },
  {
   "cell_type": "markdown",
   "metadata": {},
   "source": [
    "### Top categories in US but not in Spain"
   ]
  },
  {
   "cell_type": "code",
   "execution_count": 25,
   "metadata": {
    "collapsed": false
   },
   "outputs": [
    {
     "data": {
      "text/plain": [
       "Index(['Adventure', 'Casino', 'Music & Audio', 'Personalization'], dtype='object')"
      ]
     },
     "execution_count": 25,
     "metadata": {},
     "output_type": "execute_result"
    }
   ],
   "source": [
    "idx3 = pd.Index(df2.index)\n",
    "idx4 = pd.Index(df1.index)\n",
    "us_unique_cats = idx3.difference(idx4); us_unique_cats"
   ]
  },
  {
   "cell_type": "markdown",
   "metadata": {},
   "source": [
    "### Which apps are uniquely popular in each country?"
   ]
  },
  {
   "cell_type": "markdown",
   "metadata": {},
   "source": [
    "Some helpers:"
   ]
  },
  {
   "cell_type": "code",
   "execution_count": 26,
   "metadata": {
    "collapsed": false
   },
   "outputs": [],
   "source": [
    "def get_apps(country, category):\n",
    "    apps = []\n",
    "    for lname, details in cache[country].items():\n",
    "        for app in details[\"app_list\"]:\n",
    "            if app[\"category\"].lower() != category.lower():\n",
    "                continue\n",
    "            apps.append(app[\"title\"])\n",
    "    return apps"
   ]
  },
  {
   "cell_type": "code",
   "execution_count": 27,
   "metadata": {
    "collapsed": true
   },
   "outputs": [],
   "source": [
    "def inspect(country, compare_country, category):\n",
    "    apps_co1 = get_apps(country, category)\n",
    "    apps_co2 = get_apps(compare_country, category)\n",
    "    return list(set(apps_co1) - set(apps_co2))"
   ]
  },
  {
   "cell_type": "markdown",
   "metadata": {},
   "source": [
    "Note that the following comparison is based on the top 20 of each list. So YouTube Music is surely in Spain's Play store, but it is not in the top 20 it seems."
   ]
  },
  {
   "cell_type": "markdown",
   "metadata": {},
   "source": [
    "### Top 20 categories unique to Spain (as compared to US)"
   ]
  },
  {
   "cell_type": "code",
   "execution_count": 28,
   "metadata": {
    "collapsed": false
   },
   "outputs": [
    {
     "name": "stdout",
     "output_type": "stream",
     "text": [
      "\n",
      "Board\n",
      "- Komodo 10 Chess Engine\n",
      "- Carcassonne\n",
      "\n",
      "Education\n",
      "- Dr. Panda Farm\n",
      "\n",
      "Health & Fitness\n",
      "- Pocket Workouts Champion\n",
      "- Runtastic PRO Running, Fitness\n",
      "- Tools & Mi Band\n",
      "\n",
      "Lifestyle\n",
      "- McDonald's España\n",
      "- Tinder\n",
      "\n",
      "Sports\n",
      "- The FUT 16 Draft Simulator\n",
      "- Badminton\n",
      "- CarpMAG 16\n",
      "\n",
      "Travel & Local\n",
      "- Speed red light camera warning\n",
      "- Radardroid Pro\n",
      "- Flightradar24 - Flight Tracker\n",
      "\n",
      "Trivia\n",
      "- ¿Quién dice qué? LQSA\n"
     ]
    }
   ],
   "source": [
    "for cat in es_unique_cats:\n",
    "    print(\"\\n\" + cat)\n",
    "    for app in inspect(\"ES\", \"US\", cat):\n",
    "        print(\"- \" + app)"
   ]
  },
  {
   "cell_type": "markdown",
   "metadata": {},
   "source": [
    "### Top 20 categories unique to US (as compared to Spain)"
   ]
  },
  {
   "cell_type": "code",
   "execution_count": 223,
   "metadata": {
    "collapsed": false
   },
   "outputs": [
    {
     "name": "stdout",
     "output_type": "stream",
     "text": [
      "\n",
      "Books & Reference\n",
      "- The EO Bar\n",
      "\n",
      "Casino\n",
      "- MONOPOLY Bingo!: World Edition\n",
      "- Slotomania - Free Slots Casino\n",
      "- Slots-House of Fun-Free Casino\n",
      "- Heart of Vegas™ Slots Casino\n",
      "- SLOTS: GET RICH Free Slot Game\n",
      "- Big Fish Casino – Free Slots\n",
      "\n",
      "Music & Audio\n",
      "- Music Paradise Pro\n",
      "- YouTube Music\n",
      "- Pandora® Radio\n",
      "- Ultimate Guitar Tabs & Chords\n"
     ]
    }
   ],
   "source": [
    "for cat in us_unique_cats:\n",
    "    print(\"\\n\" + cat)\n",
    "    for app in inspect(\"US\", \"ES\", cat):\n",
    "        print(\"- \" + app)"
   ]
  }
 ],
 "metadata": {
  "kernelspec": {
   "display_name": "Python 3",
   "language": "python",
   "name": "python3"
  },
  "language_info": {
   "codemirror_mode": {
    "name": "ipython",
    "version": 3
   },
   "file_extension": ".py",
   "mimetype": "text/x-python",
   "name": "python",
   "nbconvert_exporter": "python",
   "pygments_lexer": "ipython3",
   "version": "3.5.1"
  }
 },
 "nbformat": 4,
 "nbformat_minor": 0
}
