{
 "cells": [
  {
   "cell_type": "markdown",
   "metadata": {},
   "source": [
    "In this notebook I use the [Google Play Top Charts API](https://42matters.com/api/top-google-charts) to look at what (free) apps are top selling, trending, and grossing. "
   ]
  },
  {
   "cell_type": "code",
   "execution_count": 70,
   "metadata": {
    "collapsed": true
   },
   "outputs": [],
   "source": [
    "from collections import Counter\n",
    "from configparser import ConfigParser\n",
    "import csv\n",
    "import matplotlib.pyplot as plt\n",
    "import numpy as np \n",
    "import os\n",
    "import pandas as pd\n",
    "from pprint import pprint as pp\n",
    "import requests\n",
    "%matplotlib inline"
   ]
  },
  {
   "cell_type": "markdown",
   "metadata": {},
   "source": [
    "If you want to run this analysis yourself (maybe you want to check other countries), get a 42 matters API key and define a config file called notebook.conf in the same directory as this notebook, with the following values\n",
    "\n",
    "    [vars]\n",
    "    apikey = <your_api_key>"
   ]
  },
  {
   "cell_type": "markdown",
   "metadata": {},
   "source": [
    "## Variables"
   ]
  },
  {
   "cell_type": "code",
   "execution_count": 57,
   "metadata": {
    "collapsed": false
   },
   "outputs": [],
   "source": [
    "catkey = \"OVERALL\"\n",
    "limit = 100\n",
    "countries = (\"AU\", \"CL\", \"CN\", \"ES\", \"NL\", \"US\")\n",
    "dates = (\"01-07-2015\", \"01-07-2016\")\n",
    "cache_file = \"google_play_top_charts.csv\""
   ]
  },
  {
   "cell_type": "code",
   "execution_count": 58,
   "metadata": {
    "collapsed": false
   },
   "outputs": [],
   "source": [
    "all_list_names = ( \"topselling_free\", \"topselling_paid\", \"movers_shakers\", \n",
    "              \"topgrossing\", \"topselling_new_free\", \"topselling_new_paid\" )"
   ]
  },
  {
   "cell_type": "code",
   "execution_count": 59,
   "metadata": {
    "collapsed": true
   },
   "outputs": [],
   "source": [
    "list_names = ( \"topselling_free\", \"movers_shakers\", \"topgrossing\")"
   ]
  },
  {
   "cell_type": "code",
   "execution_count": 60,
   "metadata": {
    "collapsed": true
   },
   "outputs": [],
   "source": [
    "fieldnames = (\"list_name\", \"country\", \"date\", \"title\", \"cat_key\", \"category\", \n",
    "                      \"downloads_max\", \"downloads_min\", \"lang\", \"rating\")"
   ]
  },
  {
   "cell_type": "code",
   "execution_count": 61,
   "metadata": {
    "collapsed": false
   },
   "outputs": [
    {
     "data": {
      "text/plain": [
       "['notebook.conf']"
      ]
     },
     "execution_count": 61,
     "metadata": {},
     "output_type": "execute_result"
    }
   ],
   "source": [
    "config = ConfigParser()\n",
    "config.read(\"notebook.conf\")"
   ]
  },
  {
   "cell_type": "code",
   "execution_count": 62,
   "metadata": {
    "collapsed": false
   },
   "outputs": [],
   "source": [
    "access_token = config[\"vars\"][\"apikey\"]"
   ]
  },
  {
   "cell_type": "markdown",
   "metadata": {},
   "source": [
    "## Data prep"
   ]
  },
  {
   "cell_type": "markdown",
   "metadata": {},
   "source": [
    "We only have a limited number of API hits so store the required data in csv to work with"
   ]
  },
  {
   "cell_type": "code",
   "execution_count": 148,
   "metadata": {
    "collapsed": true
   },
   "outputs": [],
   "source": [
    "def get_response(lname, country, date):\n",
    "    url = \"https://data.42matters.com/api/v2.0/android/apps/top_google_charts.json?\" +\\\n",
    "        \"list_name=%s&cat_key=%s&country=%s&limit=%s&access_token=%s&date=%s\" % \\\n",
    "    (lname, catkey, country, limit, access_token, date)\n",
    "    return requests.get(url).json()"
   ]
  },
  {
   "cell_type": "code",
   "execution_count": 149,
   "metadata": {
    "collapsed": false
   },
   "outputs": [],
   "source": [
    "def store_response(resp, writeHeader=False):\n",
    "    list_name = resp[\"list_name\"]\n",
    "    country = resp[\"country\"]\n",
    "    date = resp[\"date\"]\n",
    "    with open(cache_file, 'a') as csvfile:\n",
    "        writer = csv.DictWriter(csvfile, fieldnames=fieldnames)\n",
    "        if writeHeader:\n",
    "            writer.writeheader()\n",
    "        for app in resp[\"app_list\"]:\n",
    "            writer.writerow({'list_name': list_name, 'country': country, 'date': date,\n",
    "                            'title': app[\"title\"], 'cat_key': app[\"cat_key\"], 'category': app[\"category\"], \n",
    "                             'downloads_max': app[\"downloads_max\"], 'downloads_min': app[\"downloads_min\"], \n",
    "                             'lang': app[\"lang\"], 'rating': app[\"rating\"]})"
   ]
  },
  {
   "cell_type": "code",
   "execution_count": 158,
   "metadata": {
    "collapsed": false
   },
   "outputs": [],
   "source": [
    "# !! hits = 2 dates x 3 list_names x 6 countries x 3 units per call = 108 \n",
    "# hence checking if csv file is there and only if not there running this\n",
    "if not os.path.isfile(cache_file):\n",
    "    writeHeader = True\n",
    "    for date in dates:\n",
    "        for lname in list_names:\n",
    "            for country in countries:\n",
    "                try:\n",
    "                    resp = get_response(lname, country, date)\n",
    "                    store_response(resp, writeHeader)\n",
    "                    writeHeader = False\n",
    "                except:\n",
    "                    print(\"ERROR: could not store response for date %s, list_name %s, country %s\" % \\\n",
    "                          (date, lname, country))"
   ]
  },
  {
   "cell_type": "markdown",
   "metadata": {},
   "source": [
    "couple of import errors but most data there to do data analysis :)\n",
    "\n",
    "    ERROR: could not store response for date 01-07-2015, list_name topselling_free, country CN\n",
    "    ERROR: could not store response for date 01-07-2015, list_name movers_shakers, country AU\n",
    "    ERROR: could not store response for date 01-07-2015, list_name movers_shakers, country CL\n",
    "    ERROR: could not store response for date 01-07-2015, list_name movers_shakers, country CN\n",
    "    ERROR: could not store response for date 01-07-2015, list_name movers_shakers, country ES\n",
    "    ERROR: could not store response for date 01-07-2015, list_name movers_shakers, country NL\n",
    "    ERROR: could not store response for date 01-07-2015, list_name movers_shakers, country US\n",
    "    ERROR: could not store response for date 01-07-2015, list_name topgrossing, country CN\n",
    "    ERROR: could not store response for date 01-07-2016, list_name topselling_free, country CN\n",
    "    ERROR: could not store response for date 01-07-2016, list_name movers_shakers, country CN"
   ]
  },
  {
   "cell_type": "code",
   "execution_count": 151,
   "metadata": {
    "collapsed": false
   },
   "outputs": [
    {
     "data": {
      "text/plain": [
       "275601"
      ]
     },
     "execution_count": 151,
     "metadata": {},
     "output_type": "execute_result"
    }
   ],
   "source": [
    "os.stat(cache_file).st_size"
   ]
  },
  {
   "cell_type": "code",
   "execution_count": 152,
   "metadata": {
    "collapsed": false
   },
   "outputs": [
    {
     "data": {
      "text/html": [
       "<div>\n",
       "<table border=\"1\" class=\"dataframe\">\n",
       "  <thead>\n",
       "    <tr style=\"text-align: right;\">\n",
       "      <th></th>\n",
       "      <th>list_name</th>\n",
       "      <th>country</th>\n",
       "      <th>date</th>\n",
       "      <th>title</th>\n",
       "      <th>cat_key</th>\n",
       "      <th>category</th>\n",
       "      <th>downloads_max</th>\n",
       "      <th>downloads_min</th>\n",
       "      <th>lang</th>\n",
       "      <th>rating</th>\n",
       "    </tr>\n",
       "  </thead>\n",
       "  <tbody>\n",
       "    <tr>\n",
       "      <th>0</th>\n",
       "      <td>topselling_free</td>\n",
       "      <td>AU</td>\n",
       "      <td>01-07-2015</td>\n",
       "      <td>Messenger</td>\n",
       "      <td>COMMUNICATION</td>\n",
       "      <td>Communication</td>\n",
       "      <td>5000000000</td>\n",
       "      <td>1000000000</td>\n",
       "      <td>en</td>\n",
       "      <td>3.894</td>\n",
       "    </tr>\n",
       "    <tr>\n",
       "      <th>1</th>\n",
       "      <td>topselling_free</td>\n",
       "      <td>AU</td>\n",
       "      <td>01-07-2015</td>\n",
       "      <td>Dark of the Demons</td>\n",
       "      <td>GAME_ROLE_PLAYING</td>\n",
       "      <td>Role Playing</td>\n",
       "      <td>5000000</td>\n",
       "      <td>1000000</td>\n",
       "      <td>en</td>\n",
       "      <td>3.967</td>\n",
       "    </tr>\n",
       "  </tbody>\n",
       "</table>\n",
       "</div>"
      ],
      "text/plain": [
       "         list_name country        date               title            cat_key  \\\n",
       "0  topselling_free      AU  01-07-2015           Messenger      COMMUNICATION   \n",
       "1  topselling_free      AU  01-07-2015  Dark of the Demons  GAME_ROLE_PLAYING   \n",
       "\n",
       "        category  downloads_max  downloads_min lang  rating  \n",
       "0  Communication     5000000000     1000000000   en   3.894  \n",
       "1   Role Playing        5000000        1000000   en   3.967  "
      ]
     },
     "execution_count": 152,
     "metadata": {},
     "output_type": "execute_result"
    }
   ],
   "source": [
    "df = pd.read_csv(cache_file); df.head(2)"
   ]
  },
  {
   "cell_type": "code",
   "execution_count": 153,
   "metadata": {
    "collapsed": false
   },
   "outputs": [
    {
     "data": {
      "text/html": [
       "<div>\n",
       "<table border=\"1\" class=\"dataframe\">\n",
       "  <thead>\n",
       "    <tr style=\"text-align: right;\">\n",
       "      <th></th>\n",
       "      <th>list_name</th>\n",
       "      <th>country</th>\n",
       "      <th>date</th>\n",
       "      <th>title</th>\n",
       "      <th>cat_key</th>\n",
       "      <th>category</th>\n",
       "      <th>downloads_max</th>\n",
       "      <th>downloads_min</th>\n",
       "      <th>lang</th>\n",
       "      <th>rating</th>\n",
       "      <th>downloads_medium</th>\n",
       "    </tr>\n",
       "  </thead>\n",
       "  <tbody>\n",
       "    <tr>\n",
       "      <th>0</th>\n",
       "      <td>topselling_free</td>\n",
       "      <td>AU</td>\n",
       "      <td>01-07-2015</td>\n",
       "      <td>Messenger</td>\n",
       "      <td>COMMUNICATION</td>\n",
       "      <td>Communication</td>\n",
       "      <td>5000000000</td>\n",
       "      <td>1000000000</td>\n",
       "      <td>en</td>\n",
       "      <td>3.894</td>\n",
       "      <td>3000000000.000</td>\n",
       "    </tr>\n",
       "    <tr>\n",
       "      <th>1</th>\n",
       "      <td>topselling_free</td>\n",
       "      <td>AU</td>\n",
       "      <td>01-07-2015</td>\n",
       "      <td>Dark of the Demons</td>\n",
       "      <td>GAME_ROLE_PLAYING</td>\n",
       "      <td>Role Playing</td>\n",
       "      <td>5000000</td>\n",
       "      <td>1000000</td>\n",
       "      <td>en</td>\n",
       "      <td>3.967</td>\n",
       "      <td>3000000.000</td>\n",
       "    </tr>\n",
       "  </tbody>\n",
       "</table>\n",
       "</div>"
      ],
      "text/plain": [
       "         list_name country        date               title            cat_key  \\\n",
       "0  topselling_free      AU  01-07-2015           Messenger      COMMUNICATION   \n",
       "1  topselling_free      AU  01-07-2015  Dark of the Demons  GAME_ROLE_PLAYING   \n",
       "\n",
       "        category  downloads_max  downloads_min lang  rating  downloads_medium  \n",
       "0  Communication     5000000000     1000000000   en   3.894    3000000000.000  \n",
       "1   Role Playing        5000000        1000000   en   3.967       3000000.000  "
      ]
     },
     "execution_count": 153,
     "metadata": {},
     "output_type": "execute_result"
    }
   ],
   "source": [
    "df[\"downloads_medium\"] = (df[\"downloads_max\"] + df[\"downloads_min\"] ) /2; df.head(2)"
   ]
  },
  {
   "cell_type": "markdown",
   "metadata": {},
   "source": [
    "## What are the most downloaded games overall?"
   ]
  },
  {
   "cell_type": "code",
   "execution_count": 154,
   "metadata": {
    "collapsed": false
   },
   "outputs": [
    {
     "data": {
      "text/plain": [
       "<matplotlib.axes._subplots.AxesSubplot at 0x1194f3c18>"
      ]
     },
     "execution_count": 154,
     "metadata": {},
     "output_type": "execute_result"
    },
    {
     "data": {
      "image/png": "[encoded data removed]",
      "text/plain": [
       "<matplotlib.figure.Figure at 0x11849d7b8>"
      ]
     },
     "metadata": {},
     "output_type": "display_data"
    }
   ],
   "source": [
    "pd.set_option('display.float_format', lambda x: '%.3f' % x)\n",
    "table = pd.pivot_table(df, values='downloads_medium', index=['cat_key'], columns=['country'], aggfunc=np.sum)\n",
    "table[\"total\"] = table[list(countries)].sum(axis=1)\n",
    "table[\"total\"].sort_values(ascending=False).head(10).plot(kind=\"bar\")"
   ]
  },
  {
   "cell_type": "markdown",
   "metadata": {},
   "source": [
    "## And how is that for say Spain, Holland, Australia ?"
   ]
  },
  {
   "cell_type": "code",
   "execution_count": 155,
   "metadata": {
    "collapsed": false
   },
   "outputs": [
    {
     "data": {
      "text/plain": [
       "<matplotlib.axes._subplots.AxesSubplot at 0x118d3cf60>"
      ]
     },
     "execution_count": 155,
     "metadata": {},
     "output_type": "execute_result"
    },
    {
     "data": {
      "image/png": "[encoded data removed]",
      "text/plain": [
       "<matplotlib.figure.Figure at 0x1188b7a58>"
      ]
     },
     "metadata": {},
     "output_type": "display_data"
    }
   ],
   "source": [
    "es = table[\"ES\"].sort_values(ascending=False).head(10)\n",
    "nl = table[\"NL\"].sort_values(ascending=False).head(10)\n",
    "au = table[\"AU\"].sort_values(ascending=False).head(10)\n",
    "es.plot(kind=\"bar\", ax=nl.plot(kind=\"bar\"))"
   ]
  },
  {
   "cell_type": "code",
   "execution_count": 156,
   "metadata": {
    "collapsed": false
   },
   "outputs": [
    {
     "data": {
      "text/plain": [
       "cat_key\n",
       "COMMUNICATION     16510575300.000\n",
       "SOCIAL            11235003000.000\n",
       "GAME_CASUAL        7749000000.000\n",
       "ENTERTAINMENT      6670005000.000\n",
       "TOOLS              4025568000.000\n",
       "GAME_STRATEGY      2555643000.000\n",
       "GAME_ARCADE        2025037500.000\n",
       "MUSIC_AND_AUDIO    1953307800.000\n",
       "PRODUCTIVITY       1638000000.000\n",
       "GAME_SPORTS        1506300000.000\n",
       "Name: NL, dtype: float64"
      ]
     },
     "execution_count": 156,
     "metadata": {},
     "output_type": "execute_result"
    }
   ],
   "source": [
    "table[\"NL\"].sort_values(ascending=False).head(10)"
   ]
  },
  {
   "cell_type": "code",
   "execution_count": 157,
   "metadata": {
    "collapsed": false
   },
   "outputs": [
    {
     "data": {
      "text/plain": [
       "cat_key\n",
       "COMMUNICATION     17550675000.000\n",
       "SOCIAL            10278003000.000\n",
       "GAME_CASUAL        7311750000.000\n",
       "ENTERTAINMENT      6603900825.000\n",
       "MUSIC_AND_AUDIO    3135307500.000\n",
       "TOOLS              2590905000.000\n",
       "GAME_STRATEGY      2559003000.000\n",
       "GAME_ARCADE        2214037800.000\n",
       "PRODUCTIVITY       1626030000.000\n",
       "GAME_SPORTS        1485105000.000\n",
       "Name: AU, dtype: float64"
      ]
     },
     "execution_count": 157,
     "metadata": {},
     "output_type": "execute_result"
    }
   ],
   "source": [
    "table[\"AU\"].sort_values(ascending=False).head(10)"
   ]
  },
  {
   "cell_type": "code",
   "execution_count": null,
   "metadata": {
    "collapsed": true
   },
   "outputs": [],
   "source": []
  },
  {
   "cell_type": "code",
   "execution_count": null,
   "metadata": {
    "collapsed": true
   },
   "outputs": [],
   "source": []
  }
 ],
 "metadata": {
  "kernelspec": {
   "display_name": "Python 3",
   "language": "python",
   "name": "python3"
  },
  "language_info": {
   "codemirror_mode": {
    "name": "ipython",
    "version": 3
   },
   "file_extension": ".py",
   "mimetype": "text/x-python",
   "name": "python",
   "nbconvert_exporter": "python",
   "pygments_lexer": "ipython3",
   "version": "3.5.1"
  }
 },
 "nbformat": 4,
 "nbformat_minor": 0
}
